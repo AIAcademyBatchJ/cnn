{
 "cells": [
  {
   "cell_type": "code",
   "execution_count": 15,
   "metadata": {
    "colab": {
     "base_uri": "https://localhost:8080/"
    },
    "id": "B6vbSPjGZBvW",
    "outputId": "553eda85-9a6f-4f8e-fc16-b7a506c84ee7"
   },
   "outputs": [
    {
     "name": "stdout",
     "output_type": "stream",
     "text": [
      "Drive already mounted at /content/drive; to attempt to forcibly remount, call drive.mount(\"/content/drive\", force_remount=True).\n"
     ]
    }
   ],
   "source": [
    "from google.colab import drive\n",
    "drive.mount('/content/drive')"
   ]
  },
  {
   "cell_type": "markdown",
   "metadata": {
    "id": "T1exglH6Tm60"
   },
   "source": [
    "How can Keras API be used to create a custom CNN"
   ]
  },
  {
   "cell_type": "markdown",
   "metadata": {
    "id": "JGJfKgcSTFIF"
   },
   "source": [
    "### Convolution Operation\n",
    "- Effect of Padding\n",
    "- Kernel Size\n",
    "- Strides"
   ]
  },
  {
   "cell_type": "markdown",
   "metadata": {
    "id": "ieJi9XXKTFIV"
   },
   "source": [
    "#### Unit Stride no padding\n",
    "<figure>\n",
    "<img src=\"http://deeplearning.net/software/theano/_images/numerical_no_padding_no_strides.gif\">\n",
    "</figure>"
   ]
  },
  {
   "cell_type": "markdown",
   "metadata": {
    "id": "Kk8E5RhHTFIW"
   },
   "source": [
    "#### Zero padding unit strides\n",
    "<img src =\"http://deeplearning.net/software/theano/_images/arbitrary_padding_no_strides.gif\">"
   ]
  },
  {
   "cell_type": "markdown",
   "metadata": {
    "id": "wg226eHmTFIc"
   },
   "source": [
    "### Realtionship between output size and padding, strides and kernel size\n",
    "$n_{out}=\\frac{n_{in}+2p-k}{s}+1$"
   ]
  },
  {
   "cell_type": "markdown",
   "metadata": {
    "id": "b4CdkbByT4Si"
   },
   "source": [
    "Create a python function using this relationship"
   ]
  },
  {
   "cell_type": "code",
   "execution_count": 1,
   "metadata": {
    "id": "hqCqoklGTFIe"
   },
   "outputs": [],
   "source": [
    "def conv_out(input,padding,kernel,strides):\n",
    "    return (input+2*padding-kernel)/(strides)+1"
   ]
  },
  {
   "cell_type": "markdown",
   "metadata": {
    "id": "GBB6uNKlUGoV"
   },
   "source": [
    "Give an input of 5 pixel x 5 pixel, padding of 2px2p, kernel of 4px4p and a stride of 1"
   ]
  },
  {
   "cell_type": "code",
   "execution_count": 2,
   "metadata": {
    "colab": {
     "base_uri": "https://localhost:8080/"
    },
    "id": "znckzu6ITFIg",
    "outputId": "5f5c2156-49d8-461b-84d5-72dec14c0e24"
   },
   "outputs": [
    {
     "data": {
      "text/plain": [
       "6.0"
      ]
     },
     "execution_count": 2,
     "metadata": {},
     "output_type": "execute_result"
    }
   ],
   "source": [
    "conv_out(input=5,padding=2,kernel=4,strides=1)"
   ]
  },
  {
   "cell_type": "markdown",
   "metadata": {
    "id": "vfjgVm6fUUt1"
   },
   "source": [
    "The output size will be 6p x 6p\n",
    "\n",
    "Lets create another function that provides the kernel size given the other params"
   ]
  },
  {
   "cell_type": "code",
   "execution_count": 3,
   "metadata": {
    "id": "emsBRkEiTFIl"
   },
   "outputs": [],
   "source": [
    "def get_k(output,input,strides,padding):\n",
    "    return (strides*(1-output)+input+2*padding)"
   ]
  },
  {
   "cell_type": "code",
   "execution_count": 4,
   "metadata": {
    "colab": {
     "base_uri": "https://localhost:8080/"
    },
    "id": "6nKPt045TFIt",
    "outputId": "003952cd-1121-4a89-cb95-e408a0fe33a4"
   },
   "outputs": [
    {
     "data": {
      "text/plain": [
       "4"
      ]
     },
     "execution_count": 4,
     "metadata": {},
     "output_type": "execute_result"
    }
   ],
   "source": [
    "get_k(output=6,input=5,padding=2,strides=1)"
   ]
  },
  {
   "cell_type": "markdown",
   "metadata": {
    "id": "I-rvO0_EUmNV"
   },
   "source": [
    "Given the specifications, the size of the kernel should be 4px4p"
   ]
  },
  {
   "cell_type": "code",
   "execution_count": 5,
   "metadata": {
    "id": "iCPVo2BaTFIu"
   },
   "outputs": [],
   "source": [
    "import keras"
   ]
  },
  {
   "cell_type": "markdown",
   "metadata": {
    "id": "aBeeYSuOTFIw"
   },
   "source": [
    "<img src ='Lenet.PNG'>"
   ]
  },
  {
   "cell_type": "markdown",
   "metadata": {
    "id": "9g4tamVDUvEx"
   },
   "source": [
    "Lets try to recreate this architecture using Keras API"
   ]
  },
  {
   "cell_type": "markdown",
   "metadata": {
    "id": "lD6p1ChOVQZe"
   },
   "source": [
    "In the first Conv layer we see input size is 32x32 and output is 28x28. In the Pooling layer we see input is 28x8 and output 14x14.\n",
    "\n",
    "The question now is: What is the appropriate value of the kernel size so that the desired input-output relationships can be achieved?"
   ]
  },
  {
   "cell_type": "code",
   "execution_count": 6,
   "metadata": {
    "colab": {
     "base_uri": "https://localhost:8080/"
    },
    "id": "ZZofxwThTFIx",
    "outputId": "856a0183-552c-409e-fb51-349056023419"
   },
   "outputs": [
    {
     "data": {
      "text/plain": [
       "5"
      ]
     },
     "execution_count": 6,
     "metadata": {},
     "output_type": "execute_result"
    }
   ],
   "source": [
    "## For Conv1 - assume single stride with no padding\n",
    "get_k(input=32,output=28,strides=1,padding=0)"
   ]
  },
  {
   "cell_type": "code",
   "execution_count": 7,
   "metadata": {
    "colab": {
     "base_uri": "https://localhost:8080/"
    },
    "id": "jMnucCvNTFIy",
    "outputId": "4363f1a2-afd2-4018-f938-43523c4e8b20"
   },
   "outputs": [
    {
     "data": {
      "text/plain": [
       "2"
      ]
     },
     "execution_count": 7,
     "metadata": {},
     "output_type": "execute_result"
    }
   ],
   "source": [
    "## For Pool1 - assume double stride with no padding\n",
    "get_k(input=28,output=14,strides=2,padding=0)"
   ]
  },
  {
   "cell_type": "code",
   "execution_count": 8,
   "metadata": {
    "colab": {
     "base_uri": "https://localhost:8080/"
    },
    "id": "tc2kKcH3TFIz",
    "outputId": "95f0ff3a-e017-4765-9b73-14aa9c186e4c"
   },
   "outputs": [
    {
     "data": {
      "text/plain": [
       "5"
      ]
     },
     "execution_count": 8,
     "metadata": {},
     "output_type": "execute_result"
    }
   ],
   "source": [
    "## Conv2\n",
    "get_k(input=14,output=10,strides=1,padding=0)"
   ]
  },
  {
   "cell_type": "code",
   "execution_count": 9,
   "metadata": {
    "colab": {
     "base_uri": "https://localhost:8080/"
    },
    "id": "fH0dA2zuTFIz",
    "outputId": "df0e4b3f-1ff0-4337-e9d8-94f87c710f69"
   },
   "outputs": [
    {
     "data": {
      "text/plain": [
       "2"
      ]
     },
     "execution_count": 9,
     "metadata": {},
     "output_type": "execute_result"
    }
   ],
   "source": [
    "## Pool2\n",
    "get_k(input=10,output=5,strides=2,padding=0)"
   ]
  },
  {
   "cell_type": "markdown",
   "metadata": {
    "id": "xEHMTOAEV054"
   },
   "source": [
    "Now we've gotten for each Conv and Pool layer the appropriate kernel size, we can now start assembling the model"
   ]
  },
  {
   "cell_type": "code",
   "execution_count": 10,
   "metadata": {
    "id": "P0uP6utCTFI1"
   },
   "outputs": [],
   "source": [
    "from keras.models import Sequential\n",
    "from keras.layers import Dense,Conv2D,MaxPooling2D,Flatten"
   ]
  },
  {
   "cell_type": "code",
   "execution_count": 11,
   "metadata": {
    "id": "Wk09WrGgTFI1"
   },
   "outputs": [],
   "source": [
    "## Create architecture\n",
    "model=Sequential()\n",
    "model.add(Conv2D(filters=6,kernel_size=(5,5),padding='valid',strides=(1,1),activation='relu',input_shape=(32,32,1)))\n",
    "model.add(MaxPooling2D(pool_size=(2,2),strides=(2,2)))\n",
    "model.add(Conv2D(filters=16,kernel_size=(5,5),padding='valid',strides=(1,1),activation='relu'))\n",
    "model.add(MaxPooling2D(pool_size=(2,2),strides=(2,2)))\n",
    "model.add(Flatten())\n",
    "model.add(Dense(120,activation='relu'))\n",
    "model.add(Dense(84,activation='relu'))\n",
    "model.add(Dense(10,activation='softmax'))\n"
   ]
  },
  {
   "cell_type": "code",
   "execution_count": 12,
   "metadata": {
    "colab": {
     "base_uri": "https://localhost:8080/"
    },
    "id": "GMVpzKt1TFI2",
    "outputId": "45c9eddc-2ca6-4f85-c6a3-ab643853f4a0"
   },
   "outputs": [
    {
     "name": "stdout",
     "output_type": "stream",
     "text": [
      "Model: \"sequential\"\n",
      "_________________________________________________________________\n",
      "Layer (type)                 Output Shape              Param #   \n",
      "=================================================================\n",
      "conv2d (Conv2D)              (None, 28, 28, 6)         156       \n",
      "_________________________________________________________________\n",
      "max_pooling2d (MaxPooling2D) (None, 14, 14, 6)         0         \n",
      "_________________________________________________________________\n",
      "conv2d_1 (Conv2D)            (None, 10, 10, 16)        2416      \n",
      "_________________________________________________________________\n",
      "max_pooling2d_1 (MaxPooling2 (None, 5, 5, 16)          0         \n",
      "_________________________________________________________________\n",
      "flatten (Flatten)            (None, 400)               0         \n",
      "_________________________________________________________________\n",
      "dense (Dense)                (None, 120)               48120     \n",
      "_________________________________________________________________\n",
      "dense_1 (Dense)              (None, 84)                10164     \n",
      "_________________________________________________________________\n",
      "dense_2 (Dense)              (None, 10)                850       \n",
      "=================================================================\n",
      "Total params: 61,706\n",
      "Trainable params: 61,706\n",
      "Non-trainable params: 0\n",
      "_________________________________________________________________\n"
     ]
    }
   ],
   "source": [
    "model.summary()"
   ]
  },
  {
   "cell_type": "markdown",
   "metadata": {
    "id": "hO9ynqaAW29C"
   },
   "source": [
    "First Conv layer has an output size of 28x28 and first MaxPool layer has an output of 14x14 and so on as was desired by us"
   ]
  },
  {
   "cell_type": "code",
   "execution_count": null,
   "metadata": {
    "id": "S89wAOWZTFI8"
   },
   "outputs": [],
   "source": []
  },
  {
   "cell_type": "code",
   "execution_count": null,
   "metadata": {
    "id": "QwQQXpj6TFI8"
   },
   "outputs": [],
   "source": []
  }
 ],
 "metadata": {
  "colab": {
   "name": "Convolution_Arithmetic.ipynb",
   "provenance": []
  },
  "kernelspec": {
   "display_name": "Python 3",
   "language": "python",
   "name": "python3"
  },
  "language_info": {
   "codemirror_mode": {
    "name": "ipython",
    "version": 3
   },
   "file_extension": ".py",
   "mimetype": "text/x-python",
   "name": "python",
   "nbconvert_exporter": "python",
   "pygments_lexer": "ipython3",
   "version": "3.8.8"
  }
 },
 "nbformat": 4,
 "nbformat_minor": 1
}
